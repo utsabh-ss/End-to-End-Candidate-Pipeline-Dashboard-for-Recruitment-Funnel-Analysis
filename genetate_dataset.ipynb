{
 "cells": [
  {
   "cell_type": "markdown",
   "id": "e859e837",
   "metadata": {},
   "source": [
    "I am using this code to generate a dataset with 1000 points for my project\n",
    "(Dated - 23/07.2025)"
   ]
  },
  {
   "cell_type": "code",
   "execution_count": 9,
   "id": "623c76d9",
   "metadata": {},
   "outputs": [
    {
     "name": "stdout",
     "output_type": "stream",
     "text": [
      "Dataset generated and saved as recruitment_data.csv\n"
     ]
    }
   ],
   "source": [
    "import pandas as pd\n",
    "import random\n",
    "from faker import Faker\n",
    "from datetime import timedelta\n",
    "\n",
    "# Initialize Faker and seed for reproducibility\n",
    "fake = Faker()\n",
    "Faker.seed(42)\n",
    "random.seed(42)\n",
    "\n",
    "# Parameters\n",
    "n_candidates = 1000\n",
    "roles = ['Analyst', 'Engineer', 'Designer', 'Manager']\n",
    "locations = ['Hyderabad', 'New York', 'London', 'Singapore']\n",
    "sources = ['Referral', 'Job Portal', 'Campus', 'Internal']\n",
    "statuses = ['Applied', 'Shortlisted', 'Interviewed', 'Offered', 'Accepted', 'Joined']\n",
    "genders = ['Male', 'Female', 'Non-Binary']\n",
    "gender_weights = [0.45, 0.45, 0.10]\n",
    "\n",
    "# Helper function to simulate status progression\n",
    "def simulate_status():\n",
    "    end_index = random.choices(\n",
    "        population=[3, 4, 5, 6],\n",
    "        weights=[0.2, 0.3, 0.3, 0.2],  # dropout distribution\n",
    "        k=1\n",
    "    )[0]\n",
    "    return statuses[:end_index]\n",
    "\n",
    "# Generate data\n",
    "data = []\n",
    "for _ in range(n_candidates):\n",
    "    candidate_id = fake.uuid4()\n",
    "    role = random.choice(roles)\n",
    "    location = random.choice(locations)\n",
    "    source = random.choice(sources)\n",
    "    gender = random.choices(genders, weights=gender_weights, k=1)[0]\n",
    "    age = random.randint(22, 45)\n",
    "\n",
    "    applied_date = fake.date_between(start_date='-90d', end_date='-60d')\n",
    "    status_flow = simulate_status()\n",
    "    current_status = status_flow[-1]\n",
    "\n",
    "    offer_date = None\n",
    "    join_date = None\n",
    "\n",
    "    if 'Offered' in status_flow:\n",
    "        offer_date = applied_date + timedelta(days=random.randint(10, 20))\n",
    "    if 'Joined' in status_flow and offer_date:\n",
    "        join_date = offer_date + timedelta(days=random.randint(7, 15))\n",
    "\n",
    "    data.append({\n",
    "        'Candidate_ID': candidate_id,\n",
    "        'Role': role,\n",
    "        'Location': location,\n",
    "        'Source': source,\n",
    "        'Gender': gender,\n",
    "        'Age': age,\n",
    "        'Current_Status': current_status,\n",
    "        'Applied_Date': applied_date,\n",
    "        'Offer_Date': offer_date,\n",
    "        'Join_Date': join_date\n",
    "    })\n",
    "\n",
    "# Convert to DataFrame\n",
    "df_recruitment = pd.DataFrame(data)\n",
    "\n",
    "# Save to CSV\n",
    "df_recruitment.to_csv(\"recruitment_data.csv\", index=False)\n",
    "\n",
    "print(\"Dataset generated and saved as recruitment_data.csv\")\n"
   ]
  },
  {
   "cell_type": "code",
   "execution_count": null,
   "id": "ae918060",
   "metadata": {},
   "outputs": [],
   "source": []
  }
 ],
 "metadata": {
  "kernelspec": {
   "display_name": "base",
   "language": "python",
   "name": "python3"
  },
  "language_info": {
   "codemirror_mode": {
    "name": "ipython",
    "version": 3
   },
   "file_extension": ".py",
   "mimetype": "text/x-python",
   "name": "python",
   "nbconvert_exporter": "python",
   "pygments_lexer": "ipython3",
   "version": "3.13.5"
  }
 },
 "nbformat": 4,
 "nbformat_minor": 5
}
